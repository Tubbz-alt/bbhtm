{
 "cells": [
  {
   "cell_type": "markdown",
   "metadata": {},
   "source": [
    "#### [ <a href='http://ifni.co'>HOME</a>  ]=====  How to compute like a brain =====[ <a href='http://ifni.co/toc/programming'>Programming</a>  ]\n",
    "\n",
    "## 2D binary map\n",
    "\n",
    "This module implement 2D bit array, where every element is one or zero and takes single bit.\n",
    "Based on bitarray.\n",
    "Still work in progress..\n",
    "\n",
    "It is not complete yet, not fully tested (wrote several test in /test, but lazy for now the TM is more fun :).\n",
    "\n",
    "There are many possibilities for optimizations."
   ]
  },
  {
   "cell_type": "code",
   "execution_count": 1,
   "metadata": {
    "collapsed": true
   },
   "outputs": [],
   "source": [
    "import sys\n",
    "sys.path.append('../lib')\n",
    "import numpy as np\n",
    "from bmap2D import *"
   ]
  },
  {
   "cell_type": "code",
   "execution_count": 4,
   "metadata": {
    "collapsed": false
   },
   "outputs": [
    {
     "data": {
      "text/plain": [
       "0| 00000000000000000000\n",
       "1| 00000000000000000000\n",
       "2| 00000000000000000000\n",
       "3| 00000000000000000000\n",
       "4| 00000000000000000000"
      ]
     },
     "execution_count": 4,
     "metadata": {},
     "output_type": "execute_result"
    }
   ],
   "source": [
    "bm = BMap2D(nrows=5, ncols=20)\n",
    "bm"
   ]
  },
  {
   "cell_type": "code",
   "execution_count": 8,
   "metadata": {
    "collapsed": false
   },
   "outputs": [
    {
     "data": {
      "text/plain": [
       "bitarray('10011001111110000100')"
      ]
     },
     "execution_count": 8,
     "metadata": {},
     "output_type": "execute_result"
    }
   ],
   "source": [
    "bm.rand_item"
   ]
  },
  {
   "cell_type": "code",
   "execution_count": 7,
   "metadata": {
    "collapsed": false
   },
   "outputs": [
    {
     "data": {
      "text/plain": [
       "bitarray('0100000010000000110001100111110111110011110111000101110011110010101000110011100010110110010110011100')"
      ]
     },
     "execution_count": 7,
     "metadata": {},
     "output_type": "execute_result"
    }
   ],
   "source": [
    "bm.rand_bmap"
   ]
  },
  {
   "cell_type": "code",
   "execution_count": 10,
   "metadata": {
    "collapsed": false
   },
   "outputs": [
    {
     "data": {
      "text/plain": [
       "0| 00000000000101101011\n",
       "1| 01100000101111111110\n",
       "2| 11110000100110100010\n",
       "3| 01101110010011000000\n",
       "4| 00110100011010000110"
      ]
     },
     "execution_count": 10,
     "metadata": {},
     "output_type": "execute_result"
    }
   ],
   "source": [
    "bm.set(bm.rand_bmap)\n",
    "bm"
   ]
  },
  {
   "cell_type": "code",
   "execution_count": 11,
   "metadata": {
    "collapsed": false
   },
   "outputs": [
    {
     "data": {
      "text/plain": [
       "0| 00000000000101101011\n",
       "1| 00000000000000000000\n",
       "2| 11110000100110100010\n",
       "3| 01101110010011000000\n",
       "4| 00110100011010000110"
      ]
     },
     "execution_count": 11,
     "metadata": {},
     "output_type": "execute_result"
    }
   ],
   "source": [
    "bm[1,:] = 0\n",
    "bm"
   ]
  },
  {
   "cell_type": "code",
   "execution_count": 13,
   "metadata": {
    "collapsed": false
   },
   "outputs": [
    {
     "data": {
      "text/plain": [
       "0| 00100000000101101011\n",
       "1| 00100000000000000000\n",
       "2| 11110000100110100010\n",
       "3| 01101110010011000000\n",
       "4| 00110100011010000110"
      ]
     },
     "execution_count": 13,
     "metadata": {},
     "output_type": "execute_result"
    }
   ],
   "source": [
    "bm[:,2] = 1\n",
    "bm"
   ]
  },
  {
   "cell_type": "code",
   "execution_count": 16,
   "metadata": {
    "collapsed": false
   },
   "outputs": [
    {
     "data": {
      "text/plain": [
       "0| 00101111100101101011\n",
       "1| 00101111100000000000\n",
       "2| 11111111100110100010\n",
       "3| 01101111110011000000\n",
       "4| 00111111111010000110"
      ]
     },
     "execution_count": 16,
     "metadata": {},
     "output_type": "execute_result"
    }
   ],
   "source": [
    "bm[:,[4,5,6,7,8]] = 1\n",
    "bm"
   ]
  },
  {
   "cell_type": "code",
   "execution_count": 17,
   "metadata": {
    "collapsed": false
   },
   "outputs": [
    {
     "data": {
      "text/plain": [
       "0| 00100000000101101011\n",
       "1| 00100000000000000000\n",
       "2| 11110000000110100010\n",
       "3| 01100000010011000000\n",
       "4| 00110000011010000110"
      ]
     },
     "execution_count": 17,
     "metadata": {},
     "output_type": "execute_result"
    }
   ],
   "source": [
    "bm[:,4:8] = 0\n",
    "bm"
   ]
  },
  {
   "cell_type": "code",
   "execution_count": 20,
   "metadata": {
    "collapsed": false
   },
   "outputs": [
    {
     "data": {
      "text/plain": [
       "0| 00000000000000000000\n",
       "1| 00000000000000000000\n",
       "2| 11110000000110100010\n",
       "3| 01100000010011000000\n",
       "4| 00110000011010000110"
      ]
     },
     "execution_count": 20,
     "metadata": {},
     "output_type": "execute_result"
    }
   ],
   "source": [
    "bm[1:40] = 0 #1D access\n",
    "bm"
   ]
  },
  {
   "cell_type": "code",
   "execution_count": 21,
   "metadata": {
    "collapsed": false
   },
   "outputs": [
    {
     "data": {
      "text/plain": [
       "0| 00000000000000000000\n",
       "1| 00000000000000000000\n",
       "2| 00000000000000000000\n",
       "3| 00000000000000000000\n",
       "4| 00000000000000000000"
      ]
     },
     "execution_count": 21,
     "metadata": {},
     "output_type": "execute_result"
    }
   ],
   "source": [
    "bm.erase()\n",
    "bm"
   ]
  },
  {
   "cell_type": "code",
   "execution_count": 22,
   "metadata": {
    "collapsed": false
   },
   "outputs": [
    {
     "data": {
      "text/plain": [
       "0| 00000000000000000000\n",
       "1| 00000111111000000000\n",
       "2| 00000111111000000000\n",
       "3| 00000111111000000000\n",
       "4| 00000000000000000000"
      ]
     },
     "execution_count": 22,
     "metadata": {},
     "output_type": "execute_result"
    }
   ],
   "source": [
    "bm[1:3,5:10] = 1\n",
    "bm"
   ]
  },
  {
   "cell_type": "code",
   "execution_count": 24,
   "metadata": {
    "collapsed": false
   },
   "outputs": [
    {
     "data": {
      "text/plain": [
       "0| 10011000000100010111\n",
       "1| 00000111111000000000\n",
       "2| 00000111111000000000\n",
       "3| 00000111111000000000\n",
       "4| 00000000000000000000"
      ]
     },
     "execution_count": 24,
     "metadata": {},
     "output_type": "execute_result"
    }
   ],
   "source": [
    "bm[0,:] = bm.rand_item\n",
    "bm"
   ]
  },
  {
   "cell_type": "code",
   "execution_count": 25,
   "metadata": {
    "collapsed": false
   },
   "outputs": [
    {
     "data": {
      "text/plain": [
       "0| 10000\n",
       "1| 00000\n",
       "2| 00000\n",
       "3| 10000\n",
       "4| 10000\n",
       "5| 01110\n",
       "6| 01110\n",
       "7| 01110\n",
       "8| 01110\n",
       "9| 01110\n",
       "10| 01110\n",
       "11| 10000\n",
       "12| 00000\n",
       "13| 00000\n",
       "14| 00000\n",
       "15| 10000\n",
       "16| 00000\n",
       "17| 10000\n",
       "18| 10000\n",
       "19| 10000"
      ]
     },
     "execution_count": 25,
     "metadata": {},
     "output_type": "execute_result"
    }
   ],
   "source": [
    "bm.rotate()\n",
    "bm"
   ]
  },
  {
   "cell_type": "code",
   "execution_count": 26,
   "metadata": {
    "collapsed": false
   },
   "outputs": [
    {
     "data": {
      "text/plain": [
       "0| 10011000000100010111\n",
       "1| 00000111111000000000\n",
       "2| 00000111111000000000\n",
       "3| 00000111111000000000\n",
       "4| 00000000000000000000"
      ]
     },
     "execution_count": 26,
     "metadata": {},
     "output_type": "execute_result"
    }
   ],
   "source": [
    "bm.rotate()\n",
    "bm"
   ]
  },
  {
   "cell_type": "code",
   "execution_count": 27,
   "metadata": {
    "collapsed": false
   },
   "outputs": [
    {
     "data": {
      "text/plain": [
       "0| 00000000000000000000\n",
       "1| 00000000000000000000\n",
       "2| 10011000000100010111\n",
       "3| 00000111111000000000\n",
       "4| 00000111111000000000"
      ]
     },
     "execution_count": 27,
     "metadata": {},
     "output_type": "execute_result"
    }
   ],
   "source": [
    "bm >> 2\n",
    "bm"
   ]
  },
  {
   "cell_type": "code",
   "execution_count": 29,
   "metadata": {
    "collapsed": false
   },
   "outputs": [
    {
     "data": {
      "text/plain": [
       "0| 10011000000100010111\n",
       "1| 00000111111000000000\n",
       "2| 00000111111000000000\n",
       "3| 00000000000000000000\n",
       "4| 00000000000000000000"
      ]
     },
     "execution_count": 29,
     "metadata": {},
     "output_type": "execute_result"
    }
   ],
   "source": [
    "bm.bmap = bm.bmap << 40\n",
    "bm"
   ]
  },
  {
   "cell_type": "code",
   "execution_count": 30,
   "metadata": {
    "collapsed": false
   },
   "outputs": [
    {
     "data": {
      "text/plain": [
       "0| 00000110000000000000"
      ]
     },
     "execution_count": 30,
     "metadata": {},
     "output_type": "execute_result"
    }
   ],
   "source": [
    "bm[1,:] & bm.rand_item"
   ]
  },
  {
   "cell_type": "code",
   "execution_count": 32,
   "metadata": {
    "collapsed": false
   },
   "outputs": [
    {
     "data": {
      "text/plain": [
       "0| 10011111111100010111"
      ]
     },
     "execution_count": 32,
     "metadata": {},
     "output_type": "execute_result"
    }
   ],
   "source": [
    "bm[0,:] | bm[1,:]"
   ]
  },
  {
   "cell_type": "code",
   "execution_count": null,
   "metadata": {
    "collapsed": true
   },
   "outputs": [],
   "source": []
  }
 ],
 "metadata": {
  "kernelspec": {
   "display_name": "Python 2",
   "language": "python",
   "name": "python2"
  },
  "language_info": {
   "codemirror_mode": {
    "name": "ipython",
    "version": 2
   },
   "file_extension": ".py",
   "mimetype": "text/x-python",
   "name": "python",
   "nbconvert_exporter": "python",
   "pygments_lexer": "ipython2",
   "version": "2.7.6"
  }
 },
 "nbformat": 4,
 "nbformat_minor": 0
}
